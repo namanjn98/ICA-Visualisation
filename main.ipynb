{
 "cells": [
  {
   "cell_type": "code",
   "execution_count": 26,
   "metadata": {},
   "outputs": [],
   "source": [
    "#nbi:hide_in\n",
    "from __future__ import print_function\n",
    "from ipywidgets import interact, interactive, fixed, interact_manual\n",
    "import ipywidgets as widgets\n",
    "import sys\n",
    "import numpy as np\n",
    "from scipy import signal\n",
    "import scipy.io.wavfile\n",
    "from scipy.io import wavfile\n",
    "from matplotlib import pyplot\n",
    "import sklearn.decomposition\n",
    "import wave"
   ]
  },
  {
   "cell_type": "code",
   "execution_count": 24,
   "metadata": {},
   "outputs": [],
   "source": [
    "#nbi:hide_in\n",
    "def getaudio(path):\n",
    "    fs, data = wavfile.read(path)\n",
    "    return fs, data\n",
    "\n",
    "def get_seperated_audio(audio):\n",
    "    audio1 = getaudio('wav_numbers_trim/%s_numbers.wav'%(audio[0].lower()))\n",
    "    audio2 = getaudio('wav_numbers_trim/%s_numbers.wav'%(audio[1].lower()))\n",
    "    \n",
    "    t1 = audio1[1][:,0]\n",
    "    t2 = audio2[1][:,0]\n",
    "\n",
    "    t1 = (t1)/ 2**15\n",
    "    t2 = (t2)/ 2**15\n",
    "    \n",
    "    source1 = 0.3*t1 + 0.7*t2\n",
    "    source2 = 0.7*t1 + 0.3*t2\n",
    "    \n",
    "    data = np.c_[source1, source2]\n",
    "\n",
    "    fast_ica  = sklearn.decomposition.FastICA( n_components=2  )\n",
    "    separated = fast_ica.fit_transform( data )\n",
    "    \n",
    "    assert np.allclose( data, separated.dot( fast_ica.mixing_.T ) + fast_ica.mean_ )\n",
    "\n",
    "    max_source, min_source = 1.0, -1.0\n",
    "    max_result, min_result = max(separated.flatten()), min(separated.flatten())\n",
    "    \n",
    "    separated = 2*((separated - np.ones(separated.shape)*min_result)/(max_result - min_result)) + np.ones(separated.shape)*(-1)\n",
    "    \n",
    "    fig = pyplot.figure( figsize=(10, 8) )\n",
    "    fig.canvas.set_window_title( 'Blind Source Separation' )\n",
    "\n",
    "    ax = fig.add_subplot(221)\n",
    "    ax.set_title('Source #1')\n",
    "    ax.set_ylim([-1, 1])\n",
    "    ax.get_xaxis().set_visible( False )\n",
    "    pyplot.plot( data[:, 0], color='r' )\n",
    "\n",
    "    ax = fig.add_subplot(223)\n",
    "    ax.set_ylim([-1, 1])\n",
    "    ax.set_title('Source #2')\n",
    "    ax.get_xaxis().set_visible( False )\n",
    "    pyplot.plot( data[:, 1], color='r' )\n",
    "\n",
    "    ax = fig.add_subplot(222)\n",
    "    ax.set_ylim([-1, 1])\n",
    "    ax.set_title('Separated #1')\n",
    "    ax.get_xaxis().set_visible( False )\n",
    "    pyplot.plot( separated[:, 0], color='g' )\n",
    "\n",
    "    ax = fig.add_subplot(224)\n",
    "    ax.set_ylim([-1, 1])\n",
    "    ax.set_title('Separated #2')\n",
    "    ax.get_xaxis().set_visible( False )\n",
    "    pyplot.plot( separated[:, 1], color='g' )\n",
    "    pyplot.show()\n",
    "    \n",
    "    \n",
    "    scipy.io.wavfile.write('separated_1.wav', audio1[0], np.int16(separated[:, 0]*2**15))\n",
    "    scipy.io.wavfile.write('separated_2.wav', audio1[0], np.int16(separated[:, 1]*2**15))\n",
    "    scipy.io.wavfile.write('mixed.wav', audio1[0], np.int16(data*2**15))\n",
    "    \n",
    "    return data, separated\n",
    "\n",
    "def playsongs(a):\n",
    "    #wave_read = wave.open(a, 'rb')\n",
    "    wave_obj = sa.WaveObject.from_wave_file(a)\n",
    "    \n",
    "    play_obj = wave_obj.play()\n",
    "    play_obj.wait_done()\n",
    "    \n",
    "    "
   ]
  },
  {
   "cell_type": "code",
   "execution_count": 25,
   "metadata": {},
   "outputs": [
    {
     "name": "stdout",
     "output_type": "stream",
     "text": [
      "Select any two audios\n"
     ]
    },
    {
     "data": {
      "application/vnd.jupyter.widget-view+json": {
       "model_id": "2623e4d94797404a81721d17c893c94e",
       "version_major": 2,
       "version_minor": 0
      },
      "text/plain": [
       "HBox(children=(VBox(children=(Checkbox(value=False, description='Arabic'), Checkbox(value=False, description='…"
      ]
     },
     "metadata": {},
     "output_type": "display_data"
    }
   ],
   "source": [
    "#nbi:hide_in\n",
    "a = widgets.Checkbox(description = \"Arabic\",)\n",
    "b = widgets.Checkbox(description = \"English\")\n",
    "c = widgets.Checkbox(description = \"Hindi\")\n",
    "\n",
    "def f(a, b, c):\n",
    "    audio = []\n",
    "    if a == True:\n",
    "        audio.append('arabic')\n",
    "    if b == True:\n",
    "        audio.append('english')\n",
    "    if c == True:\n",
    "        audio.append('hindi')\n",
    "    \n",
    "    if len(audio) == 2:\n",
    "        data, separated = get_seperated_audio(audio)\n",
    "        \n",
    "        button = widgets.Button(description='Source - %s'%(audio[0]))\n",
    "        out = widgets.Output()\n",
    "        \n",
    "        def on_button_clicked(_):\n",
    "            with out:\n",
    "                out.clear_output()\n",
    "                playsongs(\"wav_numbers_trim/%s_numbers.wav\"%(audio[0]))\n",
    "        \n",
    "        button.on_click(on_button_clicked)\n",
    "        display(widgets.VBox([button,out]))\n",
    "        \n",
    "        button = widgets.Button(description='Source - %s'%(audio[1]))\n",
    "        out = widgets.Output()\n",
    "        \n",
    "        def on_button_clicked(_):\n",
    "            with out:\n",
    "                out.clear_output()\n",
    "                playsongs(\"wav_numbers_trim/%s_numbers.wav\"%(audio[1]))\n",
    "        \n",
    "        button.on_click(on_button_clicked)\n",
    "        display(widgets.VBox([button,out]))\n",
    "        \n",
    "        button = widgets.Button(description='Mixed Sounds')\n",
    "        out = widgets.Output()\n",
    "        \n",
    "        def on_button_clicked(_):\n",
    "            with out:\n",
    "                out.clear_output()\n",
    "                playsongs(\"mixed.wav\")\n",
    "        \n",
    "        button.on_click(on_button_clicked)\n",
    "        display(widgets.VBox([button,out]))\n",
    "        \n",
    "        button = widgets.Button(description='Separated - 1 Sound')\n",
    "        out = widgets.Output()\n",
    "        \n",
    "        def on_button_clicked(_):\n",
    "            with out:\n",
    "                out.clear_output()\n",
    "                playsongs(\"separated_1.wav\")\n",
    "        \n",
    "        button.on_click(on_button_clicked)\n",
    "        display(widgets.VBox([button,out]))\n",
    "        \n",
    "        button = widgets.Button(description='Separated - 2 Sound')\n",
    "        out = widgets.Output()\n",
    "        \n",
    "        def on_button_clicked(_):\n",
    "            with out:\n",
    "                out.clear_output()\n",
    "                playsongs(\"separated_2.wav\")\n",
    "        \n",
    "        button.on_click(on_button_clicked)\n",
    "        display(widgets.VBox([button,out]))\n",
    "        \n",
    "    \n",
    "\n",
    "out = widgets.interactive_output(f, {'a': a, 'b': b, 'c': c})\n",
    "print(\"Select any two audios\")\n",
    "widgets.HBox([widgets.VBox([a, b, c]), out])"
   ]
  },
  {
   "cell_type": "markdown",
   "metadata": {},
   "source": [
    "#nbi:hide_in\n",
    "import sys\n",
    "import numpy as np\n",
    "from scipy import signal\n",
    "import scipy.io.wavfile\n",
    "from matplotlib import pyplot\n",
    "import sklearn.decomposition"
   ]
  },
  {
   "cell_type": "code",
   "execution_count": 7,
   "metadata": {},
   "outputs": [],
   "source": [
    "#nbi:hide_in\n",
    "from scipy.io import wavfile\n",
    "def getaudio(path):\n",
    "    fs, data = wavfile.read(path)\n",
    "    return fs, data"
   ]
  },
  {
   "cell_type": "code",
   "execution_count": 113,
   "metadata": {},
   "outputs": [],
   "source": [
    "#nbi:hide_in\n",
    "audio1 = getaudio('wav_numbers_trim/%s_numbers.wav'%(audio[0].lower()))\n",
    "audio2 = getaudio('wav_numbers_trim/%s_numbers.wav'%(audio[1].lower()))"
   ]
  },
  {
   "cell_type": "code",
   "execution_count": null,
   "metadata": {},
   "outputs": [],
   "source": []
  },
  {
   "cell_type": "code",
   "execution_count": 144,
   "metadata": {},
   "outputs": [],
   "source": [
    "#nbi:hide_in\n",
    "t1 = audio1[1][:,0]\n",
    "t2 = audio2[1][:,0]\n",
    "\n",
    "t1 = (t1)/ 2**15\n",
    "t2 = (t2)/ 2**15"
   ]
  },
  {
   "cell_type": "code",
   "execution_count": 146,
   "metadata": {},
   "outputs": [
    {
     "data": {
      "text/plain": [
       "dtype('float64')"
      ]
     },
     "execution_count": 146,
     "metadata": {},
     "output_type": "execute_result"
    }
   ],
   "source": [
    "t1.dtype"
   ]
  },
  {
   "cell_type": "code",
   "execution_count": 115,
   "metadata": {},
   "outputs": [],
   "source": [
    "source1 = 0.3*t1 + 0.7*t2\n",
    "source2 = 0.7*t1 + 0.3*t2"
   ]
  },
  {
   "cell_type": "code",
   "execution_count": 129,
   "metadata": {},
   "outputs": [],
   "source": [
    "data = np.c_[source1, source2]\n",
    "\n",
    "fast_ica  = sklearn.decomposition.FastICA( n_components=2  )\n",
    "separated = fast_ica.fit_transform( data )"
   ]
  },
  {
   "cell_type": "code",
   "execution_count": 147,
   "metadata": {},
   "outputs": [],
   "source": [
    "data = data.astype(np.float16)\n",
    "separated = separated.astype(np.float16)"
   ]
  },
  {
   "cell_type": "code",
   "execution_count": 131,
   "metadata": {},
   "outputs": [],
   "source": [
    "assert np.allclose( data, separated.dot( fast_ica.mixing_.T ) + fast_ica.mean_ )\n",
    "\n",
    "max_source, min_source = 1.0, -1.0\n",
    "max_result, min_result = max(separated.flatten()), min(separated.flatten())"
   ]
  },
  {
   "cell_type": "code",
   "execution_count": 132,
   "metadata": {},
   "outputs": [],
   "source": [
    "separated = 2*((separated - np.ones(separated.shape)*min_result)/(max_result - min_result)) + np.ones(separated.shape)*(-1)"
   ]
  },
  {
   "cell_type": "code",
   "execution_count": 148,
   "metadata": {},
   "outputs": [],
   "source": [
    "separated.dtype\n",
    "separated = separated.astype(np.float16)"
   ]
  },
  {
   "cell_type": "code",
   "execution_count": 149,
   "metadata": {
    "scrolled": true
   },
   "outputs": [
    {
     "data": {
      "image/png": "[encoded data removed]",
      "text/plain": [
       "<Figure size 720x576 with 4 Axes>"
      ]
     },
     "metadata": {},
     "output_type": "display_data"
    }
   ],
   "source": [
    "fig = pyplot.figure( figsize=(10, 8) )\n",
    "fig.canvas.set_window_title( 'Blind Source Separation' )\n",
    "\n",
    "ax = fig.add_subplot(221)\n",
    "ax.set_title('Source #1')\n",
    "ax.set_ylim([-1, 1])\n",
    "ax.get_xaxis().set_visible( False )\n",
    "pyplot.plot( data[:, 0], color='r' )\n",
    "\n",
    "ax = fig.add_subplot(223)\n",
    "ax.set_ylim([-1, 1])\n",
    "ax.set_title('Source #2')\n",
    "ax.get_xaxis().set_visible( False )\n",
    "pyplot.plot( data[:, 1], color='r' )\n",
    "\n",
    "ax = fig.add_subplot(222)\n",
    "ax.set_ylim([-1, 1])\n",
    "ax.set_title('Separated #1')\n",
    "ax.get_xaxis().set_visible( False )\n",
    "pyplot.plot( separated[:, 0], color='g' )\n",
    "\n",
    "ax = fig.add_subplot(224)\n",
    "ax.set_ylim([-1, 1])\n",
    "ax.set_title('Separated #2')\n",
    "ax.get_xaxis().set_visible( False )\n",
    "pyplot.plot( separated[:, 1], color='g' )\n",
    "pyplot.show()"
   ]
  },
  {
   "cell_type": "code",
   "execution_count": 136,
   "metadata": {},
   "outputs": [
    {
     "data": {
      "text/plain": [
       "dtype('float32')"
      ]
     },
     "execution_count": 136,
     "metadata": {},
     "output_type": "execute_result"
    }
   ],
   "source": [
    "separated.dtype"
   ]
  },
  {
   "cell_type": "code",
   "execution_count": 154,
   "metadata": {},
   "outputs": [],
   "source": [
    "separated = separated*2**15\n",
    "data = data*2**15"
   ]
  },
  {
   "cell_type": "code",
   "execution_count": 177,
   "metadata": {},
   "outputs": [],
   "source": [
    "separated = separated.astype(np.int16)\n",
    "data = data.astype(np.int16)"
   ]
  },
  {
   "cell_type": "code",
   "execution_count": 178,
   "metadata": {},
   "outputs": [],
   "source": [
    "scipy.io.wavfile.write('separated_1.wav', audio1[0], separated[:, 0])\n",
    "scipy.io.wavfile.write('separated_2.wav', audio1[0], separated[:, 1])\n",
    "scipy.io.wavfile.write('mixed.wav', audio1[0], data)"
   ]
  },
  {
   "cell_type": "code",
   "execution_count": 12,
   "metadata": {},
   "outputs": [],
   "source": [
    "import simpleaudio as sa\n"
   ]
  },
  {
   "cell_type": "code",
   "execution_count": 54,
   "metadata": {},
   "outputs": [],
   "source": []
  },
  {
   "cell_type": "code",
   "execution_count": 60,
   "metadata": {
    "collapsed": true
   },
   "outputs": [
    {
     "ename": "ValueError",
     "evalue": "Button(description='Click me', icon='check', style=ButtonStyle(), tooltip='Click me') cannot be transformed to a widget",
     "output_type": "error",
     "traceback": [
      "\u001b[0;31m---------------------------------------------------------------------------\u001b[0m",
      "\u001b[0;31mValueError\u001b[0m                                Traceback (most recent call last)",
      "\u001b[0;32m<ipython-input-60-0eaa5c822be9>\u001b[0m in \u001b[0;36m<module>\u001b[0;34m()\u001b[0m\n\u001b[0;32m----> 1\u001b[0;31m \u001b[0minteract\u001b[0m\u001b[0;34m(\u001b[0m\u001b[0mplaysongs\u001b[0m\u001b[0;34m,\u001b[0m \u001b[0maudio\u001b[0m \u001b[0;34m=\u001b[0m \u001b[0mwidgets\u001b[0m\u001b[0;34m.\u001b[0m\u001b[0mButton\u001b[0m\u001b[0;34m(\u001b[0m\u001b[0mdescription\u001b[0m\u001b[0;34m=\u001b[0m\u001b[0;34m'Click me'\u001b[0m\u001b[0;34m,\u001b[0m\u001b[0mbutton_style\u001b[0m\u001b[0;34m=\u001b[0m\u001b[0;34m''\u001b[0m\u001b[0;34m,\u001b[0m\u001b[0mdisabled\u001b[0m\u001b[0;34m=\u001b[0m\u001b[0;32mFalse\u001b[0m\u001b[0;34m,\u001b[0m\u001b[0mtooltip\u001b[0m\u001b[0;34m=\u001b[0m\u001b[0;34m'Click me'\u001b[0m\u001b[0;34m,\u001b[0m \u001b[0micon\u001b[0m\u001b[0;34m=\u001b[0m\u001b[0;34m'check'\u001b[0m\u001b[0;34m)\u001b[0m\u001b[0;34m)\u001b[0m\u001b[0;34m\u001b[0m\u001b[0m\n\u001b[0m",
      "\u001b[0;32m/Library/Frameworks/Python.framework/Versions/3.6/lib/python3.6/site-packages/ipywidgets/widgets/interaction.py\u001b[0m in \u001b[0;36m__call__\u001b[0;34m(self, _InteractFactory__interact_f, **kwargs)\u001b[0m\n\u001b[1;32m    521\u001b[0m         \u001b[0;31m#    def f(*args, **kwargs):\u001b[0m\u001b[0;34m\u001b[0m\u001b[0;34m\u001b[0m\u001b[0m\n\u001b[1;32m    522\u001b[0m         \u001b[0;31m#        ...\u001b[0m\u001b[0;34m\u001b[0m\u001b[0;34m\u001b[0m\u001b[0m\n\u001b[0;32m--> 523\u001b[0;31m         \u001b[0mw\u001b[0m \u001b[0;34m=\u001b[0m \u001b[0mself\u001b[0m\u001b[0;34m.\u001b[0m\u001b[0mwidget\u001b[0m\u001b[0;34m(\u001b[0m\u001b[0mf\u001b[0m\u001b[0;34m)\u001b[0m\u001b[0;34m\u001b[0m\u001b[0m\n\u001b[0m\u001b[1;32m    524\u001b[0m         \u001b[0;32mtry\u001b[0m\u001b[0;34m:\u001b[0m\u001b[0;34m\u001b[0m\u001b[0m\n\u001b[1;32m    525\u001b[0m             \u001b[0mf\u001b[0m\u001b[0;34m.\u001b[0m\u001b[0mwidget\u001b[0m \u001b[0;34m=\u001b[0m \u001b[0mw\u001b[0m\u001b[0;34m\u001b[0m\u001b[0m\n",
      "\u001b[0;32m/Library/Frameworks/Python.framework/Versions/3.6/lib/python3.6/site-packages/ipywidgets/widgets/interaction.py\u001b[0m in \u001b[0;36mwidget\u001b[0;34m(self, f)\u001b[0m\n\u001b[1;32m    437\u001b[0m             \u001b[0mThe\u001b[0m \u001b[0mfunction\u001b[0m \u001b[0mto\u001b[0m \u001b[0mwhich\u001b[0m \u001b[0mthe\u001b[0m \u001b[0minteractive\u001b[0m \u001b[0mwidgets\u001b[0m \u001b[0mare\u001b[0m \u001b[0mtied\u001b[0m\u001b[0;34m.\u001b[0m\u001b[0;34m\u001b[0m\u001b[0m\n\u001b[1;32m    438\u001b[0m         \"\"\"\n\u001b[0;32m--> 439\u001b[0;31m         \u001b[0;32mreturn\u001b[0m \u001b[0mself\u001b[0m\u001b[0;34m.\u001b[0m\u001b[0mcls\u001b[0m\u001b[0;34m(\u001b[0m\u001b[0mf\u001b[0m\u001b[0;34m,\u001b[0m \u001b[0mself\u001b[0m\u001b[0;34m.\u001b[0m\u001b[0mopts\u001b[0m\u001b[0;34m,\u001b[0m \u001b[0;34m**\u001b[0m\u001b[0mself\u001b[0m\u001b[0;34m.\u001b[0m\u001b[0mkwargs\u001b[0m\u001b[0;34m)\u001b[0m\u001b[0;34m\u001b[0m\u001b[0m\n\u001b[0m\u001b[1;32m    440\u001b[0m \u001b[0;34m\u001b[0m\u001b[0m\n\u001b[1;32m    441\u001b[0m     \u001b[0;32mdef\u001b[0m \u001b[0m__call__\u001b[0m\u001b[0;34m(\u001b[0m\u001b[0mself\u001b[0m\u001b[0;34m,\u001b[0m \u001b[0m__interact_f\u001b[0m\u001b[0;34m=\u001b[0m\u001b[0;32mNone\u001b[0m\u001b[0;34m,\u001b[0m \u001b[0;34m**\u001b[0m\u001b[0mkwargs\u001b[0m\u001b[0;34m)\u001b[0m\u001b[0;34m:\u001b[0m\u001b[0;34m\u001b[0m\u001b[0m\n",
      "\u001b[0;32m/Library/Frameworks/Python.framework/Versions/3.6/lib/python3.6/site-packages/ipywidgets/widgets/interaction.py\u001b[0m in \u001b[0;36m__init__\u001b[0;34m(self, _interactive__interact_f, _interactive__options, **kwargs)\u001b[0m\n\u001b[1;32m    193\u001b[0m             \u001b[0mgetcallargs\u001b[0m\u001b[0;34m(\u001b[0m\u001b[0mf\u001b[0m\u001b[0;34m,\u001b[0m \u001b[0;34m**\u001b[0m\u001b[0;34m{\u001b[0m\u001b[0mn\u001b[0m\u001b[0;34m:\u001b[0m\u001b[0mv\u001b[0m \u001b[0;32mfor\u001b[0m \u001b[0mn\u001b[0m\u001b[0;34m,\u001b[0m\u001b[0mv\u001b[0m\u001b[0;34m,\u001b[0m\u001b[0m_\u001b[0m \u001b[0;32min\u001b[0m \u001b[0mnew_kwargs\u001b[0m\u001b[0;34m}\u001b[0m\u001b[0;34m)\u001b[0m\u001b[0;34m\u001b[0m\u001b[0m\n\u001b[1;32m    194\u001b[0m         \u001b[0;31m# Now build the widgets from the abbreviations.\u001b[0m\u001b[0;34m\u001b[0m\u001b[0;34m\u001b[0m\u001b[0m\n\u001b[0;32m--> 195\u001b[0;31m         \u001b[0mself\u001b[0m\u001b[0;34m.\u001b[0m\u001b[0mkwargs_widgets\u001b[0m \u001b[0;34m=\u001b[0m \u001b[0mself\u001b[0m\u001b[0;34m.\u001b[0m\u001b[0mwidgets_from_abbreviations\u001b[0m\u001b[0;34m(\u001b[0m\u001b[0mnew_kwargs\u001b[0m\u001b[0;34m)\u001b[0m\u001b[0;34m\u001b[0m\u001b[0m\n\u001b[0m\u001b[1;32m    196\u001b[0m \u001b[0;34m\u001b[0m\u001b[0m\n\u001b[1;32m    197\u001b[0m         \u001b[0;31m# This has to be done as an assignment, not using self.children.append,\u001b[0m\u001b[0;34m\u001b[0m\u001b[0;34m\u001b[0m\u001b[0m\n",
      "\u001b[0;32m/Library/Frameworks/Python.framework/Versions/3.6/lib/python3.6/site-packages/ipywidgets/widgets/interaction.py\u001b[0m in \u001b[0;36mwidgets_from_abbreviations\u001b[0;34m(self, seq)\u001b[0m\n\u001b[1;32m    293\u001b[0m             \u001b[0;32mif\u001b[0m \u001b[0;32mnot\u001b[0m \u001b[0;34m(\u001b[0m\u001b[0misinstance\u001b[0m\u001b[0;34m(\u001b[0m\u001b[0mwidget\u001b[0m\u001b[0;34m,\u001b[0m \u001b[0mValueWidget\u001b[0m\u001b[0;34m)\u001b[0m \u001b[0;32mor\u001b[0m \u001b[0misinstance\u001b[0m\u001b[0;34m(\u001b[0m\u001b[0mwidget\u001b[0m\u001b[0;34m,\u001b[0m \u001b[0mfixed\u001b[0m\u001b[0;34m)\u001b[0m\u001b[0;34m)\u001b[0m\u001b[0;34m:\u001b[0m\u001b[0;34m\u001b[0m\u001b[0m\n\u001b[1;32m    294\u001b[0m                 \u001b[0;32mif\u001b[0m \u001b[0mwidget\u001b[0m \u001b[0;32mis\u001b[0m \u001b[0;32mNone\u001b[0m\u001b[0;34m:\u001b[0m\u001b[0;34m\u001b[0m\u001b[0m\n\u001b[0;32m--> 295\u001b[0;31m                     \u001b[0;32mraise\u001b[0m \u001b[0mValueError\u001b[0m\u001b[0;34m(\u001b[0m\u001b[0;34m\"{!r} cannot be transformed to a widget\"\u001b[0m\u001b[0;34m.\u001b[0m\u001b[0mformat\u001b[0m\u001b[0;34m(\u001b[0m\u001b[0mabbrev\u001b[0m\u001b[0;34m)\u001b[0m\u001b[0;34m)\u001b[0m\u001b[0;34m\u001b[0m\u001b[0m\n\u001b[0m\u001b[1;32m    296\u001b[0m                 \u001b[0;32melse\u001b[0m\u001b[0;34m:\u001b[0m\u001b[0;34m\u001b[0m\u001b[0m\n\u001b[1;32m    297\u001b[0m                     \u001b[0;32mraise\u001b[0m \u001b[0mTypeError\u001b[0m\u001b[0;34m(\u001b[0m\u001b[0;34m\"{!r} is not a ValueWidget\"\u001b[0m\u001b[0;34m.\u001b[0m\u001b[0mformat\u001b[0m\u001b[0;34m(\u001b[0m\u001b[0mwidget\u001b[0m\u001b[0;34m)\u001b[0m\u001b[0;34m)\u001b[0m\u001b[0;34m\u001b[0m\u001b[0m\n",
      "\u001b[0;31mValueError\u001b[0m: Button(description='Click me', icon='check', style=ButtonStyle(), tooltip='Click me') cannot be transformed to a widget"
     ]
    }
   ],
   "source": [
    "interact(playsongs, audio = widgets.Button(description='Click me',button_style='',disabled=False,tooltip='Click me', icon='check'))"
   ]
  },
  {
   "cell_type": "code",
   "execution_count": null,
   "metadata": {},
   "outputs": [],
   "source": [
    "wave_read = wave.open(\"mixed.wav\", 'rb')\n"
   ]
  },
  {
   "cell_type": "code",
   "execution_count": 179,
   "metadata": {},
   "outputs": [],
   "source": [
    "wave_read = wave.open(\"mixed.wav\", 'rb')"
   ]
  },
  {
   "cell_type": "code",
   "execution_count": 180,
   "metadata": {
    "scrolled": true
   },
   "outputs": [
    {
     "ename": "AttributeError",
     "evalue": "'Wave_read' object has no attribute 'read'",
     "output_type": "error",
     "traceback": [
      "\u001b[0;31m---------------------------------------------------------------------------\u001b[0m",
      "\u001b[0;31mAttributeError\u001b[0m                            Traceback (most recent call last)",
      "\u001b[0;32m<ipython-input-180-7ffbeca591a9>\u001b[0m in \u001b[0;36m<module>\u001b[0;34m()\u001b[0m\n\u001b[0;32m----> 1\u001b[0;31m \u001b[0mwave_obj\u001b[0m \u001b[0;34m=\u001b[0m \u001b[0msa\u001b[0m\u001b[0;34m.\u001b[0m\u001b[0mWaveObject\u001b[0m\u001b[0;34m.\u001b[0m\u001b[0mfrom_wave_file\u001b[0m\u001b[0;34m(\u001b[0m\u001b[0mwave_read\u001b[0m\u001b[0;34m)\u001b[0m\u001b[0;34m\u001b[0m\u001b[0m\n\u001b[0m\u001b[1;32m      2\u001b[0m \u001b[0;34m\u001b[0m\u001b[0m\n\u001b[1;32m      3\u001b[0m \u001b[0mplay_obj\u001b[0m \u001b[0;34m=\u001b[0m \u001b[0mwave_obj\u001b[0m\u001b[0;34m.\u001b[0m\u001b[0mplay\u001b[0m\u001b[0;34m(\u001b[0m\u001b[0;34m)\u001b[0m\u001b[0;34m\u001b[0m\u001b[0m\n\u001b[1;32m      4\u001b[0m \u001b[0mplay_obj\u001b[0m\u001b[0;34m.\u001b[0m\u001b[0mwait_done\u001b[0m\u001b[0;34m(\u001b[0m\u001b[0;34m)\u001b[0m\u001b[0;34m\u001b[0m\u001b[0m\n",
      "\u001b[0;32m/Library/Frameworks/Python.framework/Versions/3.6/lib/python3.6/site-packages/simpleaudio/shiny.py\u001b[0m in \u001b[0;36mfrom_wave_file\u001b[0;34m(cls, wave_file)\u001b[0m\n\u001b[1;32m     22\u001b[0m     \u001b[0;34m@\u001b[0m\u001b[0mclassmethod\u001b[0m\u001b[0;34m\u001b[0m\u001b[0m\n\u001b[1;32m     23\u001b[0m     \u001b[0;32mdef\u001b[0m \u001b[0mfrom_wave_file\u001b[0m\u001b[0;34m(\u001b[0m\u001b[0mcls\u001b[0m\u001b[0;34m,\u001b[0m \u001b[0mwave_file\u001b[0m\u001b[0;34m)\u001b[0m\u001b[0;34m:\u001b[0m\u001b[0;34m\u001b[0m\u001b[0m\n\u001b[0;32m---> 24\u001b[0;31m         \u001b[0mwave_read\u001b[0m \u001b[0;34m=\u001b[0m \u001b[0mwave\u001b[0m\u001b[0;34m.\u001b[0m\u001b[0mopen\u001b[0m\u001b[0;34m(\u001b[0m\u001b[0mwave_file\u001b[0m\u001b[0;34m,\u001b[0m \u001b[0;34m'rb'\u001b[0m\u001b[0;34m)\u001b[0m\u001b[0;34m\u001b[0m\u001b[0m\n\u001b[0m\u001b[1;32m     25\u001b[0m         \u001b[0mwave_obj\u001b[0m \u001b[0;34m=\u001b[0m \u001b[0mcls\u001b[0m\u001b[0;34m.\u001b[0m\u001b[0mfrom_wave_read\u001b[0m\u001b[0;34m(\u001b[0m\u001b[0mwave_read\u001b[0m\u001b[0;34m)\u001b[0m\u001b[0;34m\u001b[0m\u001b[0m\n\u001b[1;32m     26\u001b[0m         \u001b[0mwave_read\u001b[0m\u001b[0;34m.\u001b[0m\u001b[0mclose\u001b[0m\u001b[0;34m(\u001b[0m\u001b[0;34m)\u001b[0m\u001b[0;34m\u001b[0m\u001b[0m\n",
      "\u001b[0;32m/Library/Frameworks/Python.framework/Versions/3.6/lib/python3.6/wave.py\u001b[0m in \u001b[0;36mopen\u001b[0;34m(f, mode)\u001b[0m\n\u001b[1;32m    497\u001b[0m             \u001b[0mmode\u001b[0m \u001b[0;34m=\u001b[0m \u001b[0;34m'rb'\u001b[0m\u001b[0;34m\u001b[0m\u001b[0m\n\u001b[1;32m    498\u001b[0m     \u001b[0;32mif\u001b[0m \u001b[0mmode\u001b[0m \u001b[0;32min\u001b[0m \u001b[0;34m(\u001b[0m\u001b[0;34m'r'\u001b[0m\u001b[0;34m,\u001b[0m \u001b[0;34m'rb'\u001b[0m\u001b[0;34m)\u001b[0m\u001b[0;34m:\u001b[0m\u001b[0;34m\u001b[0m\u001b[0m\n\u001b[0;32m--> 499\u001b[0;31m         \u001b[0;32mreturn\u001b[0m \u001b[0mWave_read\u001b[0m\u001b[0;34m(\u001b[0m\u001b[0mf\u001b[0m\u001b[0;34m)\u001b[0m\u001b[0;34m\u001b[0m\u001b[0m\n\u001b[0m\u001b[1;32m    500\u001b[0m     \u001b[0;32melif\u001b[0m \u001b[0mmode\u001b[0m \u001b[0;32min\u001b[0m \u001b[0;34m(\u001b[0m\u001b[0;34m'w'\u001b[0m\u001b[0;34m,\u001b[0m \u001b[0;34m'wb'\u001b[0m\u001b[0;34m)\u001b[0m\u001b[0;34m:\u001b[0m\u001b[0;34m\u001b[0m\u001b[0m\n\u001b[1;32m    501\u001b[0m         \u001b[0;32mreturn\u001b[0m \u001b[0mWave_write\u001b[0m\u001b[0;34m(\u001b[0m\u001b[0mf\u001b[0m\u001b[0;34m)\u001b[0m\u001b[0;34m\u001b[0m\u001b[0m\n",
      "\u001b[0;32m/Library/Frameworks/Python.framework/Versions/3.6/lib/python3.6/wave.py\u001b[0m in \u001b[0;36m__init__\u001b[0;34m(self, f)\u001b[0m\n\u001b[1;32m    161\u001b[0m         \u001b[0;31m# else, assume it is an open file object already\u001b[0m\u001b[0;34m\u001b[0m\u001b[0;34m\u001b[0m\u001b[0m\n\u001b[1;32m    162\u001b[0m         \u001b[0;32mtry\u001b[0m\u001b[0;34m:\u001b[0m\u001b[0;34m\u001b[0m\u001b[0m\n\u001b[0;32m--> 163\u001b[0;31m             \u001b[0mself\u001b[0m\u001b[0;34m.\u001b[0m\u001b[0minitfp\u001b[0m\u001b[0;34m(\u001b[0m\u001b[0mf\u001b[0m\u001b[0;34m)\u001b[0m\u001b[0;34m\u001b[0m\u001b[0m\n\u001b[0m\u001b[1;32m    164\u001b[0m         \u001b[0;32mexcept\u001b[0m\u001b[0;34m:\u001b[0m\u001b[0;34m\u001b[0m\u001b[0m\n\u001b[1;32m    165\u001b[0m             \u001b[0;32mif\u001b[0m \u001b[0mself\u001b[0m\u001b[0;34m.\u001b[0m\u001b[0m_i_opened_the_file\u001b[0m\u001b[0;34m:\u001b[0m\u001b[0;34m\u001b[0m\u001b[0m\n",
      "\u001b[0;32m/Library/Frameworks/Python.framework/Versions/3.6/lib/python3.6/wave.py\u001b[0m in \u001b[0;36minitfp\u001b[0;34m(self, file)\u001b[0m\n\u001b[1;32m    126\u001b[0m         \u001b[0mself\u001b[0m\u001b[0;34m.\u001b[0m\u001b[0m_convert\u001b[0m \u001b[0;34m=\u001b[0m \u001b[0;32mNone\u001b[0m\u001b[0;34m\u001b[0m\u001b[0m\n\u001b[1;32m    127\u001b[0m         \u001b[0mself\u001b[0m\u001b[0;34m.\u001b[0m\u001b[0m_soundpos\u001b[0m \u001b[0;34m=\u001b[0m \u001b[0;36m0\u001b[0m\u001b[0;34m\u001b[0m\u001b[0m\n\u001b[0;32m--> 128\u001b[0;31m         \u001b[0mself\u001b[0m\u001b[0;34m.\u001b[0m\u001b[0m_file\u001b[0m \u001b[0;34m=\u001b[0m \u001b[0mChunk\u001b[0m\u001b[0;34m(\u001b[0m\u001b[0mfile\u001b[0m\u001b[0;34m,\u001b[0m \u001b[0mbigendian\u001b[0m \u001b[0;34m=\u001b[0m \u001b[0;36m0\u001b[0m\u001b[0;34m)\u001b[0m\u001b[0;34m\u001b[0m\u001b[0m\n\u001b[0m\u001b[1;32m    129\u001b[0m         \u001b[0;32mif\u001b[0m \u001b[0mself\u001b[0m\u001b[0;34m.\u001b[0m\u001b[0m_file\u001b[0m\u001b[0;34m.\u001b[0m\u001b[0mgetname\u001b[0m\u001b[0;34m(\u001b[0m\u001b[0;34m)\u001b[0m \u001b[0;34m!=\u001b[0m \u001b[0;34mb'RIFF'\u001b[0m\u001b[0;34m:\u001b[0m\u001b[0;34m\u001b[0m\u001b[0m\n\u001b[1;32m    130\u001b[0m             \u001b[0;32mraise\u001b[0m \u001b[0mError\u001b[0m\u001b[0;34m(\u001b[0m\u001b[0;34m'file does not start with RIFF id'\u001b[0m\u001b[0;34m)\u001b[0m\u001b[0;34m\u001b[0m\u001b[0m\n",
      "\u001b[0;32m/Library/Frameworks/Python.framework/Versions/3.6/lib/python3.6/chunk.py\u001b[0m in \u001b[0;36m__init__\u001b[0;34m(self, file, align, bigendian, inclheader)\u001b[0m\n\u001b[1;32m     59\u001b[0m             \u001b[0mstrflag\u001b[0m \u001b[0;34m=\u001b[0m \u001b[0;34m'<'\u001b[0m\u001b[0;34m\u001b[0m\u001b[0m\n\u001b[1;32m     60\u001b[0m         \u001b[0mself\u001b[0m\u001b[0;34m.\u001b[0m\u001b[0mfile\u001b[0m \u001b[0;34m=\u001b[0m \u001b[0mfile\u001b[0m\u001b[0;34m\u001b[0m\u001b[0m\n\u001b[0;32m---> 61\u001b[0;31m         \u001b[0mself\u001b[0m\u001b[0;34m.\u001b[0m\u001b[0mchunkname\u001b[0m \u001b[0;34m=\u001b[0m \u001b[0mfile\u001b[0m\u001b[0;34m.\u001b[0m\u001b[0mread\u001b[0m\u001b[0;34m(\u001b[0m\u001b[0;36m4\u001b[0m\u001b[0;34m)\u001b[0m\u001b[0;34m\u001b[0m\u001b[0m\n\u001b[0m\u001b[1;32m     62\u001b[0m         \u001b[0;32mif\u001b[0m \u001b[0mlen\u001b[0m\u001b[0;34m(\u001b[0m\u001b[0mself\u001b[0m\u001b[0;34m.\u001b[0m\u001b[0mchunkname\u001b[0m\u001b[0;34m)\u001b[0m \u001b[0;34m<\u001b[0m \u001b[0;36m4\u001b[0m\u001b[0;34m:\u001b[0m\u001b[0;34m\u001b[0m\u001b[0m\n\u001b[1;32m     63\u001b[0m             \u001b[0;32mraise\u001b[0m \u001b[0mEOFError\u001b[0m\u001b[0;34m\u001b[0m\u001b[0m\n",
      "\u001b[0;31mAttributeError\u001b[0m: 'Wave_read' object has no attribute 'read'"
     ]
    }
   ],
   "source": [
    "wave_obj = sa.WaveObject.from_wave_file(wave_read)\n",
    "    \n",
    "play_obj = wave_obj.play()\n",
    "play_obj.wait_done()"
   ]
  },
  {
   "cell_type": "code",
   "execution_count": 183,
   "metadata": {},
   "outputs": [
    {
     "ename": "ModuleNotFoundError",
     "evalue": "No module named 'AppKit'",
     "output_type": "error",
     "traceback": [
      "\u001b[0;31m---------------------------------------------------------------------------\u001b[0m",
      "\u001b[0;31mModuleNotFoundError\u001b[0m                       Traceback (most recent call last)",
      "\u001b[0;32m<ipython-input-183-6a7ccdd02b54>\u001b[0m in \u001b[0;36m<module>\u001b[0;34m()\u001b[0m\n\u001b[1;32m      1\u001b[0m \u001b[0;32mfrom\u001b[0m \u001b[0mplaysound\u001b[0m \u001b[0;32mimport\u001b[0m \u001b[0mplaysound\u001b[0m\u001b[0;34m\u001b[0m\u001b[0m\n\u001b[0;32m----> 2\u001b[0;31m \u001b[0mplaysound\u001b[0m\u001b[0;34m(\u001b[0m\u001b[0;34m'mixed.wav'\u001b[0m\u001b[0;34m)\u001b[0m\u001b[0;34m\u001b[0m\u001b[0m\n\u001b[0m",
      "\u001b[0;32m/Library/Frameworks/Python.framework/Versions/3.6/lib/python3.6/site-packages/playsound.py\u001b[0m in \u001b[0;36m_playsoundOSX\u001b[0;34m(sound, block)\u001b[0m\n\u001b[1;32m     53\u001b[0m     \u001b[0mI\u001b[0m \u001b[0mnever\u001b[0m \u001b[0mwould\u001b[0m \u001b[0mhave\u001b[0m \u001b[0mtried\u001b[0m \u001b[0musing\u001b[0m \u001b[0mAppKit\u001b[0m\u001b[0;34m.\u001b[0m\u001b[0mNSSound\u001b[0m \u001b[0mwithout\u001b[0m \u001b[0mseeing\u001b[0m \u001b[0mhis\u001b[0m \u001b[0mcode\u001b[0m\u001b[0;34m.\u001b[0m\u001b[0;34m\u001b[0m\u001b[0m\n\u001b[1;32m     54\u001b[0m     '''\n\u001b[0;32m---> 55\u001b[0;31m     \u001b[0;32mfrom\u001b[0m \u001b[0mAppKit\u001b[0m     \u001b[0;32mimport\u001b[0m \u001b[0mNSSound\u001b[0m\u001b[0;34m\u001b[0m\u001b[0m\n\u001b[0m\u001b[1;32m     56\u001b[0m     \u001b[0;32mfrom\u001b[0m \u001b[0mFoundation\u001b[0m \u001b[0;32mimport\u001b[0m \u001b[0mNSURL\u001b[0m\u001b[0;34m\u001b[0m\u001b[0m\n\u001b[1;32m     57\u001b[0m     \u001b[0;32mfrom\u001b[0m \u001b[0mtime\u001b[0m       \u001b[0;32mimport\u001b[0m \u001b[0msleep\u001b[0m\u001b[0;34m\u001b[0m\u001b[0m\n",
      "\u001b[0;31mModuleNotFoundError\u001b[0m: No module named 'AppKit'"
     ]
    }
   ],
   "source": [
    "from playsound import playsound\n",
    "playsound('mixed.wav')"
   ]
  },
  {
   "cell_type": "code",
   "execution_count": 182,
   "metadata": {},
   "outputs": [
    {
     "name": "stdout",
     "output_type": "stream",
     "text": [
      "Collecting AppKit\n",
      "Requirement already satisfied: flask in /Library/Frameworks/Python.framework/Versions/3.6/lib/python3.6/site-packages (from AppKit)\n",
      "Requirement already satisfied: beautifulsoup4 in /Library/Frameworks/Python.framework/Versions/3.6/lib/python3.6/site-packages (from AppKit)\n",
      "Collecting pygobject (from AppKit)\n",
      "  Using cached https://files.pythonhosted.org/packages/0b/fd/56ac6898afc5c7f5718026103bd8f0b44714b6f79ac20d7eb8990c9a7eab/PyGObject-3.32.0.tar.gz\n",
      "Requirement already satisfied: itsdangerous>=0.24 in /Library/Frameworks/Python.framework/Versions/3.6/lib/python3.6/site-packages (from flask->AppKit)\n",
      "Requirement already satisfied: Jinja2>=2.10 in /Library/Frameworks/Python.framework/Versions/3.6/lib/python3.6/site-packages (from flask->AppKit)\n",
      "Requirement already satisfied: click>=5.1 in /Library/Frameworks/Python.framework/Versions/3.6/lib/python3.6/site-packages (from flask->AppKit)\n",
      "Requirement already satisfied: Werkzeug>=0.14 in /Library/Frameworks/Python.framework/Versions/3.6/lib/python3.6/site-packages (from flask->AppKit)\n",
      "Collecting pycairo>=1.11.1 (from pygobject->AppKit)\n",
      "  Using cached https://files.pythonhosted.org/packages/a6/54/23d6cf3e8d8f1eb30e0e58f171b6f62b2ea75c024935492373639a1a08e4/pycairo-1.18.0.tar.gz\n",
      "Requirement already satisfied: MarkupSafe>=0.23 in /Library/Frameworks/Python.framework/Versions/3.6/lib/python3.6/site-packages (from Jinja2>=2.10->flask->AppKit)\n",
      "Building wheels for collected packages: pygobject, pycairo\n",
      "  Running setup.py bdist_wheel for pygobject ... \u001b[?25lerror\n",
      "  Complete output from command /Library/Frameworks/Python.framework/Versions/3.6/bin/python3.6 -u -c \"import setuptools, tokenize;__file__='/private/var/folders/m1/ql7z5nj53n974f4xb7_879280000gn/T/pip-build-mrygydj3/pygobject/setup.py';f=getattr(tokenize, 'open', open)(__file__);code=f.read().replace('\\r\\n', '\\n');f.close();exec(compile(code, __file__, 'exec'))\" bdist_wheel -d /var/folders/m1/ql7z5nj53n974f4xb7_879280000gn/T/tmpskgxj5cypip-wheel- --python-tag cp36:\n",
      "  running bdist_wheel\n",
      "  running build\n",
      "  running build_py\n",
      "  creating build\n",
      "  creating build/lib.macosx-10.6-intel-3.6\n",
      "  creating build/lib.macosx-10.6-intel-3.6/pygtkcompat\n",
      "  copying pygtkcompat/__init__.py -> build/lib.macosx-10.6-intel-3.6/pygtkcompat\n",
      "  copying pygtkcompat/generictreemodel.py -> build/lib.macosx-10.6-intel-3.6/pygtkcompat\n",
      "  copying pygtkcompat/pygtkcompat.py -> build/lib.macosx-10.6-intel-3.6/pygtkcompat\n",
      "  creating build/lib.macosx-10.6-intel-3.6/gi\n",
      "  copying gi/__init__.py -> build/lib.macosx-10.6-intel-3.6/gi\n",
      "  copying gi/_compat.py -> build/lib.macosx-10.6-intel-3.6/gi\n",
      "  copying gi/_constants.py -> build/lib.macosx-10.6-intel-3.6/gi\n",
      "  copying gi/_error.py -> build/lib.macosx-10.6-intel-3.6/gi\n",
      "  copying gi/_gtktemplate.py -> build/lib.macosx-10.6-intel-3.6/gi\n",
      "  copying gi/_option.py -> build/lib.macosx-10.6-intel-3.6/gi\n",
      "  copying gi/_ossighelper.py -> build/lib.macosx-10.6-intel-3.6/gi\n",
      "  copying gi/_propertyhelper.py -> build/lib.macosx-10.6-intel-3.6/gi\n",
      "  copying gi/_signalhelper.py -> build/lib.macosx-10.6-intel-3.6/gi\n",
      "  copying gi/docstring.py -> build/lib.macosx-10.6-intel-3.6/gi\n",
      "  copying gi/importer.py -> build/lib.macosx-10.6-intel-3.6/gi\n",
      "  copying gi/module.py -> build/lib.macosx-10.6-intel-3.6/gi\n",
      "  copying gi/pygtkcompat.py -> build/lib.macosx-10.6-intel-3.6/gi\n",
      "  copying gi/types.py -> build/lib.macosx-10.6-intel-3.6/gi\n",
      "  creating build/lib.macosx-10.6-intel-3.6/gi/repository\n",
      "  copying gi/repository/__init__.py -> build/lib.macosx-10.6-intel-3.6/gi/repository\n",
      "  creating build/lib.macosx-10.6-intel-3.6/gi/overrides\n",
      "  copying gi/overrides/__init__.py -> build/lib.macosx-10.6-intel-3.6/gi/overrides\n",
      "  copying gi/overrides/Gdk.py -> build/lib.macosx-10.6-intel-3.6/gi/overrides\n",
      "  copying gi/overrides/GdkPixbuf.py -> build/lib.macosx-10.6-intel-3.6/gi/overrides\n",
      "  copying gi/overrides/GIMarshallingTests.py -> build/lib.macosx-10.6-intel-3.6/gi/overrides\n",
      "  copying gi/overrides/Gio.py -> build/lib.macosx-10.6-intel-3.6/gi/overrides\n",
      "  copying gi/overrides/GLib.py -> build/lib.macosx-10.6-intel-3.6/gi/overrides\n",
      "  copying gi/overrides/GObject.py -> build/lib.macosx-10.6-intel-3.6/gi/overrides\n",
      "  copying gi/overrides/Gtk.py -> build/lib.macosx-10.6-intel-3.6/gi/overrides\n",
      "  copying gi/overrides/keysyms.py -> build/lib.macosx-10.6-intel-3.6/gi/overrides\n",
      "  copying gi/overrides/Pango.py -> build/lib.macosx-10.6-intel-3.6/gi/overrides\n",
      "  running build_ext\n",
      "  Package glib-2.0 was not found in the pkg-config search path.\n",
      "  Perhaps you should add the directory containing `glib-2.0.pc'\n",
      "  to the PKG_CONFIG_PATH environment variable\n",
      "  No package 'glib-2.0' found\n",
      "  Command '('pkg-config', '--print-errors', '--exists', 'glib-2.0 >= 2.48.0')' returned non-zero exit status 1.\n",
      "  \n",
      "  ----------------------------------------\n",
      "\u001b[31m  Failed building wheel for pygobject\u001b[0m\n",
      "\u001b[?25h  Running setup.py clean for pygobject\n",
      "  Running setup.py bdist_wheel for pycairo ... \u001b[?25lerror\n",
      "  Complete output from command /Library/Frameworks/Python.framework/Versions/3.6/bin/python3.6 -u -c \"import setuptools, tokenize;__file__='/private/var/folders/m1/ql7z5nj53n974f4xb7_879280000gn/T/pip-build-mrygydj3/pycairo/setup.py';f=getattr(tokenize, 'open', open)(__file__);code=f.read().replace('\\r\\n', '\\n');f.close();exec(compile(code, __file__, 'exec'))\" bdist_wheel -d /var/folders/m1/ql7z5nj53n974f4xb7_879280000gn/T/tmpxw8v2h4zpip-wheel- --python-tag cp36:\n",
      "  running bdist_wheel\n",
      "  running build\n",
      "  running build_py\n",
      "  creating build\n",
      "  creating build/lib.macosx-10.6-intel-3.6\n",
      "  creating build/lib.macosx-10.6-intel-3.6/cairo\n",
      "  copying cairo/__init__.py -> build/lib.macosx-10.6-intel-3.6/cairo\n",
      "  copying cairo/__init__.pyi -> build/lib.macosx-10.6-intel-3.6/cairo\n",
      "  copying cairo/py.typed -> build/lib.macosx-10.6-intel-3.6/cairo\n",
      "  running build_ext\n",
      "  Package cairo was not found in the pkg-config search path.\n",
      "  Perhaps you should add the directory containing `cairo.pc'\n",
      "  to the PKG_CONFIG_PATH environment variable\n",
      "  No package 'cairo' found\n",
      "  Command '['pkg-config', '--print-errors', '--exists', 'cairo >= 1.13.1']' returned non-zero exit status 1.\n",
      "  \n",
      "  ----------------------------------------\n",
      "\u001b[31m  Failed building wheel for pycairo\u001b[0m\n",
      "\u001b[?25h  Running setup.py clean for pycairo\n",
      "Failed to build pygobject pycairo\n",
      "Installing collected packages: pycairo, pygobject, AppKit\n",
      "  Running setup.py install for pycairo ... \u001b[?25lerror\n",
      "    Complete output from command /Library/Frameworks/Python.framework/Versions/3.6/bin/python3.6 -u -c \"import setuptools, tokenize;__file__='/private/var/folders/m1/ql7z5nj53n974f4xb7_879280000gn/T/pip-build-mrygydj3/pycairo/setup.py';f=getattr(tokenize, 'open', open)(__file__);code=f.read().replace('\\r\\n', '\\n');f.close();exec(compile(code, __file__, 'exec'))\" install --record /var/folders/m1/ql7z5nj53n974f4xb7_879280000gn/T/pip-0hwthyqg-record/install-record.txt --single-version-externally-managed --compile:\n",
      "    running install\n",
      "    running build\n",
      "    running build_py\n",
      "    creating build\n",
      "    creating build/lib.macosx-10.6-intel-3.6\n",
      "    creating build/lib.macosx-10.6-intel-3.6/cairo\n",
      "    copying cairo/__init__.py -> build/lib.macosx-10.6-intel-3.6/cairo\n",
      "    copying cairo/__init__.pyi -> build/lib.macosx-10.6-intel-3.6/cairo\n",
      "    copying cairo/py.typed -> build/lib.macosx-10.6-intel-3.6/cairo\n",
      "    running build_ext\n",
      "    Package cairo was not found in the pkg-config search path.\n",
      "    Perhaps you should add the directory containing `cairo.pc'\n",
      "    to the PKG_CONFIG_PATH environment variable\n",
      "    No package 'cairo' found\n",
      "    Command '['pkg-config', '--print-errors', '--exists', 'cairo >= 1.13.1']' returned non-zero exit status 1.\n",
      "    \n",
      "    ----------------------------------------\n",
      "\u001b[31mCommand \"/Library/Frameworks/Python.framework/Versions/3.6/bin/python3.6 -u -c \"import setuptools, tokenize;__file__='/private/var/folders/m1/ql7z5nj53n974f4xb7_879280000gn/T/pip-build-mrygydj3/pycairo/setup.py';f=getattr(tokenize, 'open', open)(__file__);code=f.read().replace('\\r\\n', '\\n');f.close();exec(compile(code, __file__, 'exec'))\" install --record /var/folders/m1/ql7z5nj53n974f4xb7_879280000gn/T/pip-0hwthyqg-record/install-record.txt --single-version-externally-managed --compile\" failed with error code 1 in /private/var/folders/m1/ql7z5nj53n974f4xb7_879280000gn/T/pip-build-mrygydj3/pycairo/\u001b[0m\n"
     ]
    },
    {
     "name": "stdout",
     "output_type": "stream",
     "text": [
      "\u001b[33mYou are using pip version 9.0.3, however version 19.0.3 is available.\r\n",
      "You should consider upgrading via the 'pip install --upgrade pip' command.\u001b[0m\r\n",
      "\u001b[?25h"
     ]
    }
   ],
   "source": [
    "!pip3 install AppKit"
   ]
  },
  {
   "cell_type": "code",
   "execution_count": 185,
   "metadata": {},
   "outputs": [
    {
     "data": {
      "text/plain": [
       "32512"
      ]
     },
     "execution_count": 185,
     "metadata": {},
     "output_type": "execute_result"
    }
   ],
   "source": [
    "import os\n",
    "os.system(\"start mixed.wav\")"
   ]
  },
  {
   "cell_type": "code",
   "execution_count": null,
   "metadata": {},
   "outputs": [],
   "source": [
    "import pyglet\n",
    "song = pyglet.media.load('mixed.wav')\n",
    "song.play()\n",
    "pyglet.app.run()"
   ]
  },
  {
   "cell_type": "code",
   "execution_count": null,
   "metadata": {},
   "outputs": [],
   "source": []
  }
 ],
 "metadata": {
  "kernelspec": {
   "display_name": "Python 3",
   "language": "python",
   "name": "python3"
  },
  "language_info": {
   "codemirror_mode": {
    "name": "ipython",
    "version": 3
   },
   "file_extension": ".py",
   "mimetype": "text/x-python",
   "name": "python",
   "nbconvert_exporter": "python",
   "pygments_lexer": "ipython3",
   "version": "3.6.5"
  }
 },
 "nbformat": 4,
 "nbformat_minor": 2
}
